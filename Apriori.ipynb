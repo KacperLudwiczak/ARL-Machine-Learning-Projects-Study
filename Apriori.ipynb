{
  "nbformat": 4,
  "nbformat_minor": 0,
  "metadata": {
    "colab": {
      "provenance": [],
      "include_colab_link": true
    },
    "kernelspec": {
      "name": "python3",
      "display_name": "Python 3"
    }
  },
  "cells": [
    {
      "cell_type": "markdown",
      "metadata": {
        "id": "view-in-github",
        "colab_type": "text"
      },
      "source": [
        "<a href=\"https://colab.research.google.com/github/KacperLudwiczak/ARL-Machine-Learning-Projects-Study/blob/main/Apriori.ipynb\" target=\"_parent\"><img src=\"https://colab.research.google.com/assets/colab-badge.svg\" alt=\"Open In Colab\"/></a>"
      ]
    },
    {
      "cell_type": "markdown",
      "metadata": {
        "id": "1fziHl7Ar94J"
      },
      "source": [
        "# Apriori"
      ]
    },
    {
      "cell_type": "markdown",
      "metadata": {
        "id": "eiNwni1xsEgT"
      },
      "source": [
        "## Importing the libraries"
      ]
    },
    {
      "cell_type": "code",
      "metadata": {
        "id": "DUF77Qr1vqyM",
        "outputId": "e7812f8b-8e45-40d1-b52a-53df18662e33",
        "colab": {
          "base_uri": "https://localhost:8080/"
        }
      },
      "source": [
        "!pip install apyori"
      ],
      "execution_count": null,
      "outputs": [
        {
          "output_type": "stream",
          "name": "stdout",
          "text": [
            "Looking in indexes: https://pypi.org/simple, https://us-python.pkg.dev/colab-wheels/public/simple/\n",
            "Collecting apyori\n",
            "  Downloading apyori-1.1.2.tar.gz (8.6 kB)\n",
            "  Preparing metadata (setup.py) ... \u001b[?25l\u001b[?25hdone\n",
            "Building wheels for collected packages: apyori\n",
            "  Building wheel for apyori (setup.py) ... \u001b[?25l\u001b[?25hdone\n",
            "  Created wheel for apyori: filename=apyori-1.1.2-py3-none-any.whl size=5973 sha256=4fa27cd2655cb995208d14f3c52015430722dd27f40a49d298f855d42da8d677\n",
            "  Stored in directory: /root/.cache/pip/wheels/1b/02/6c/a45230be8603bd95c0a51cd2b289aefdd860c1a100eab73661\n",
            "Successfully built apyori\n",
            "Installing collected packages: apyori\n",
            "Successfully installed apyori-1.1.2\n"
          ]
        }
      ]
    },
    {
      "cell_type": "code",
      "metadata": {
        "id": "UJfitBClsJlT"
      },
      "source": [
        "import numpy as np\n",
        "import matplotlib.pyplot as plt\n",
        "import pandas as pd"
      ],
      "execution_count": null,
      "outputs": []
    },
    {
      "cell_type": "markdown",
      "metadata": {
        "id": "vLt-7XUKsXBd"
      },
      "source": [
        "## Data Preprocessing"
      ]
    },
    {
      "cell_type": "code",
      "source": [
        "dataset = pd.read_csv('Market_Basket_Optimisation.csv', header = None)\n",
        "transactions = []\n",
        "for i in range(0, 7501):\n",
        "    transactions.append([str(dataset.values[i,j]) for j in range(0, 20)])\n",
        "\n",
        "# Ten kod odczytuje z pliku CSV o nazwie \"Market_Basket_Optimisation.csv\" zbiór danych i zapisuje go w obiekcie DataFrame biblioteki pandas o nazwie \"dataset\". Zbiór danych nie ma nagłówków kolumn, dlatego w specyfikacji użyto header=None.\n",
        "# Następnie inicjalizowana jest pusta lista o nazwie \"transactions\". Używana jest pętla for do iteracji po każdym wierszu w zbiorze danych. Pętla działa od 0 do 7500 (liczba wierszy w zbiorze danych) i dla każdej iteracji wyodrębnia wartości z wiersza za pomocą dataset.values[i, j] i konwertuje je na łańcuchy znaków przy użyciu str(). Wynikowa lista łańcuchów znaków jest następnie dołączana do listy \"transactions\".\n",
        "# Kod prawdopodobnie jest używany do przygotowania zbioru danych do analizy reguł asocjacyjnych lub analizy koszyka zakupowego, gdzie transakcje odnoszą się do kolekcji przedmiotów kupionych przez klienta w jednym zakupie. Przez iterowanie po każdym wierszu w zbiorze danych i konwertowanie nazw przedmiotów na łańcuchy znaków, kod przygotowuje dane do dalszej analizy, aby zidentyfikować wzorce i relacje między przedmiotami kupionymi razem.\n",
        "\n",
        "# Pętla w tym kodzie działa następująco:\n",
        "# for i in range(0, 7501): - pętla for iteruje od 0 do 7500 (liczba wierszy w zbiorze danych).\n",
        "# transactions.append([str(dataset.values[i,j]) for j in range(0, 20)]) - dla każdego wiersza w zbiorze danych, pętla for iteruje od 0 do 19 (liczba kolumn w zbiorze danych) za pomocą range(0, 20), a następnie używa dataset.values[i,j] do pobrania wartości z danego wiersza i kolumny. Wartość jest następnie konwertowana na łańcuch znaków przy użyciu funkcji str(). Otrzymana lista łańcuchów znaków jest następnie dodawana do listy \"transactions\" za pomocą metody append().\n",
        "# Po zakończeniu iteracji po wszystkich wierszach w zbiorze danych, lista \"transactions\" zawiera listy łańcuchów znaków reprezentujące transakcje (czyli przedmioty kupione w jednym zamówieniu) w całym zbiorze danych.\n",
        "# W ten sposób pętla tworzy listę list, w której każdy element tej zewnętrznej listy reprezentuje jedną transakcję, a elementy wewnętrznej listy to przedmioty kupione w tej transakcji. Dzięki takiemu przetworzeniu danych można wykorzystać algorytmy analizy koszyka zakupowego, takie jak algorytmy reguł asocjacyjnych, do identyfikowania wzorców i relacji między przedmiotami kupionymi razem w różnych transakcjach."
      ],
      "metadata": {
        "id": "AX6yNBTn08DC"
      },
      "execution_count": null,
      "outputs": []
    },
    {
      "cell_type": "markdown",
      "metadata": {
        "id": "1wYZdBd5sea_"
      },
      "source": [
        "## Training the Apriori model on the dataset"
      ]
    },
    {
      "cell_type": "code",
      "source": [
        "from apyori import apriori\n",
        "rules = apriori( transactions=transactions, min_support = 0.003, min_confidence = 0.2, min_lift = 3, min_length = 2, max_length = 2 )\n",
        "\n",
        "# Ten kod korzysta z biblioteki apyori do analizy koszyka zakupowego i identyfikowania reguł asocjacyjnych w zbiorze danych.\n",
        "# apriori() jest funkcją biblioteki apyori, która przyjmuje argumenty:\n",
        "# transactions - lista list, w której każdy element zewnętrznej listy reprezentuje jedną transakcję, a elementy wewnętrznej listy to przedmioty kupione w tej transakcji. To jest dokładnie ta lista, która została wcześniej zdefiniowana i nazwana jako \"transactions\".\n",
        "# min_support - minimalne wsparcie dla zestawu reguł asocjacyjnych. Wartość 0,003 oznacza, że zestaw reguł musi być obecny w co najmniej 0,3% wszystkich transakcji, aby został uwzględniony w wynikach.\n",
        "# min_confidence - minimalna wartość wskaźnika ufności dla każdej reguły asocjacyjnej. Wartość 0,2 oznacza, że każda reguła musi mieć ufność co najmniej 20%.\n",
        "# min_lift - minimalna wartość wskaźnika podwyższenia dla każdej reguły asocjacyjnej. Wartość 3 oznacza, że reguły z wartością podwyższenia co najmniej 3 są brane pod uwagę w wynikach.\n",
        "# min_length - minimalna długość zestawu reguł. Wartość 2 oznacza, że zestawy reguł muszą zawierać co najmniej dwa przedmioty.\n",
        "# max_length - maksymalna długość zestawu reguł. Wartość 2 oznacza, że zestawy reguł mogą zawierać maksymalnie dwa przedmioty.\n",
        "# Funkcja apriori() zwraca wyniki analizy koszyka zakupowego, czyli zestaw reguł asocjacyjnych, które spełniają powyższe warunki. Te reguły są przechowywane w zmiennej \"rules\" i mogą być wykorzystane do dalszej analizy i interpretacji.\n",
        "\n",
        "# Wartość min_support (minimalne wsparcie) określa minimalną częstość występowania zestawu przedmiotów w transakcjach, aby został uznany za interesujący. W tym przypadku wartość min_support wynosi 0,003, co oznacza, że zestaw reguł asocjacyjnych musi występować w co najmniej 0,3% wszystkich transakcji, aby został uwzględniony w wynikach.\n",
        "# Wartość min_support jest dobierana w zależności od wielu czynników, takich jak rozmiar zbioru danych, liczba transakcji, liczba przedmiotów w każdej transakcji, stopień złożoności analizowanej problematyki itp.\n",
        "# Wybierając wartość min_support, należy znaleźć kompromis między ilością wyników i ich jakością. Jeśli min_support jest zbyt wysokie, to może spowodować zbyt małą ilość wyników. Natomiast, jeśli wartość min_support jest zbyt niska, to może spowodować zbyt dużą ilość wyników, w tym również takich, które nie są interesujące z biznesowego punktu widzenia.\n",
        "# W tym konkretnym przypadku, wartość min_support wynosi 0,003, co oznacza, że zestaw reguł asocjacyjnych musi występować w co najmniej 0,3% wszystkich transakcji, aby został uwzględniony w wynikach. To oznacza, że zestawy reguł, które pojawiają się rzadziej, są odrzucane, a analiza koncentruje się na zestawach, które są bardziej powszechne. W ten sposób wyniki są bardziej związane z rzeczywistymi preferencjami klientów i mogą być wykorzystane do podejmowania decyzji biznesowych.\n",
        "\n",
        "# Wartość min_confidence (minimalna ufność) określa minimalny próg ufności dla reguł asocjacyjnych, aby były uznane za istotne. W tym przypadku wartość min_confidence wynosi 0,2, co oznacza, że reguły asocjacyjne, które pojawiają się w transakcjach z minimalną ufnością 20%, są uznawane za istotne i są uwzględniane w wynikach analizy.\n",
        "# Wartość min_confidence jest dobierana w zależności od konkretnych potrzeb biznesowych oraz specyfiki zbioru danych, ale wartość 20% jest często stosowana w praktyce, ponieważ reguły asocjacyjne, które są istotne z biznesowego punktu widzenia, powinny mieć dość wysoką ufność, aby można było na nich polegać.\n",
        "# Dla przykładu, wartość 20% oznacza, że jeśli reguła asocjacyjna stwierdza, że klienci, którzy kupują chleb, często kupują mleko, to można mieć 20% pewności, że klient, który kupuje chleb, kupi również mleko. Oznacza to, że dla każdych pięciu klientów kupujących chleb, tylko jeden kupi również mleko zgodnie z tą regułą. Wartość 20% jest stosunkowo wysoka, co oznacza, że reguły asocjacyjne, które są uznawane za istotne, są dość pewne i mają praktyczne zastosowanie w biznesie.\n",
        "# Należy jednak pamiętać, że wartość min_confidence powinna być dobierana indywidualnie dla każdej analizy, w zależności od konkretnych potrzeb biznesowych i specyfiki badanego zbioru danych.\n",
        "\n",
        "# Wartość min_lift (minimalny lift) określa minimalny próg podwyższenia, który musi być osiągnięty przez regułę asocjacyjną, aby została uznana za istotną. Lift jest miarą związku między dwoma elementami w regule asocjacyjnej i mierzy, jak bardzo prawdopodobieństwo wystąpienia jednego elementu zwiększa się wraz z wystąpieniem drugiego elementu w transakcji.\n",
        "# W przypadku ustawienia min_lift na 3, oznacza to, że reguły asocjacyjne z lift'em równym lub większym niż 3 są uznawane za istotne i uwzględniane w wynikach analizy. Lift o wartości 3 oznacza, że wystąpienie jednego elementu zwiększa prawdopodobieństwo wystąpienia drugiego elementu trzykrotnie w porównaniu z sytuacją, gdy elementy są niezależne od siebie. W praktyce, wartość 3 jest stosunkowo wysoka i oznacza, że reguły asocjacyjne z wyższym lift'em są bardziej istotne, ponieważ wskazują na mocniejszy związek między elementami.\n",
        "# Warto jednak pamiętać, że wartość min_lift powinna być dobierana indywidualnie dla każdej analizy, w zależności od konkretnych potrzeb biznesowych i specyfiki badanego zbioru danych. Inne wartości min_lift mogą być stosowane w zależności od tego, jak silny związek między elementami jest interesujący dla analizy.\n",
        "\n",
        "# Wartość min_length (minimalna długość) określa minimalną liczbę elementów w zestawie reguł asocjacyjnych, aby został uwzględniony w wynikach. W tym przypadku wartość min_length wynosi 2, co oznacza, że w zestawie reguł asocjacyjnych muszą występować co najmniej dwa elementy, aby był on uwzględniony w wynikach.\n",
        "# Wartość min_length jest dobierana w zależności od konkretnych potrzeb biznesowych oraz specyfiki zbioru danych. W tym przypadku, wartość min_length wynosi 2, ponieważ analizujemy zestawy reguł składające się z dwóch elementów. Zazwyczaj, zestawy reguł składające się z dwóch elementów są najbardziej interesujące dla biznesu, ponieważ pozwalają na identyfikację produktów lub usług, które klienci często kupują razem.\n",
        "# Jeśli wartość min_length była mniejsza niż 2, to reguły składające się tylko z jednego elementu zostałyby również uwzględnione w wynikach, co byłoby mniej interesujące z biznesowego punktu widzenia. Natomiast, jeśli wartość min_length była większa niż 2, to zestawy reguł byłyby bardziej złożone i wymagałyby większej liczby transakcji, aby były istotne.\n",
        "# Warto zaznaczyć, że wartość min_length może być różna w zależności od specyfiki badanego zbioru danych i konkretnych potrzeb biznesowych.\n",
        "\n",
        "# W kontekście algorytmu Apriori, parametr max_length określa maksymalną długość zestawu elementów, który może być brany pod uwagę podczas generowania reguł asocjacyjnych. W tym przypadku, wartość max_length wynosi 2, co oznacza, że algorytm Apriori generuje zestawy reguł składające się z maksymalnie dwóch elementów.\n",
        "# Parametr max_length jest zwykle dobierany w zależności od potrzeb biznesowych i specyfiki badanego zbioru danych. W przypadku analizy koszyka zakupowego, zestawy reguł składające się z dwóch produktów są zwykle interesujące z biznesowego punktu widzenia, ponieważ pozwalają na identyfikację produktów, które klienci często kupują razem.\n",
        "# Jeśli wartość max_length była mniejsza niż 2, to algorytm Apriori generowałby tylko zestawy reguł składające się z jednego elementu, co byłoby mniej interesujące z biznesowego punktu widzenia. Natomiast, jeśli wartość max_length była większa niż 2, to zestawy reguł byłyby bardziej złożone i wymagałyby większej liczby transakcji, aby były istotne.\n"
      ],
      "metadata": {
        "id": "bP11A9TI3RBF"
      },
      "execution_count": null,
      "outputs": []
    },
    {
      "cell_type": "markdown",
      "metadata": {
        "id": "b176YNwWspiO"
      },
      "source": [
        "## Visualising the results"
      ]
    },
    {
      "cell_type": "markdown",
      "metadata": {
        "id": "iO6bF_dImT-E"
      },
      "source": [
        "### Displaying the first results coming directly from the output of the apriori function"
      ]
    },
    {
      "cell_type": "code",
      "source": [
        "results = list(rules)"
      ],
      "metadata": {
        "id": "Faho_C4M6Vz3"
      },
      "execution_count": null,
      "outputs": []
    },
    {
      "cell_type": "code",
      "source": [
        "results"
      ],
      "metadata": {
        "colab": {
          "base_uri": "https://localhost:8080/"
        },
        "id": "z63nDZH961Tg",
        "outputId": "fdcfab9b-4c8d-4918-eff3-e0bd0a258e8f"
      },
      "execution_count": null,
      "outputs": [
        {
          "output_type": "execute_result",
          "data": {
            "text/plain": [
              "[RelationRecord(items=frozenset({'light cream', 'chicken'}), support=0.004532728969470737, ordered_statistics=[OrderedStatistic(items_base=frozenset({'light cream'}), items_add=frozenset({'chicken'}), confidence=0.29059829059829057, lift=4.84395061728395)]),\n",
              " RelationRecord(items=frozenset({'mushroom cream sauce', 'escalope'}), support=0.005732568990801226, ordered_statistics=[OrderedStatistic(items_base=frozenset({'mushroom cream sauce'}), items_add=frozenset({'escalope'}), confidence=0.3006993006993007, lift=3.790832696715049)]),\n",
              " RelationRecord(items=frozenset({'escalope', 'pasta'}), support=0.005865884548726837, ordered_statistics=[OrderedStatistic(items_base=frozenset({'pasta'}), items_add=frozenset({'escalope'}), confidence=0.3728813559322034, lift=4.700811850163794)]),\n",
              " RelationRecord(items=frozenset({'honey', 'fromage blanc'}), support=0.003332888948140248, ordered_statistics=[OrderedStatistic(items_base=frozenset({'fromage blanc'}), items_add=frozenset({'honey'}), confidence=0.2450980392156863, lift=5.164270764485569)]),\n",
              " RelationRecord(items=frozenset({'herb & pepper', 'ground beef'}), support=0.015997866951073192, ordered_statistics=[OrderedStatistic(items_base=frozenset({'herb & pepper'}), items_add=frozenset({'ground beef'}), confidence=0.3234501347708895, lift=3.2919938411349285)]),\n",
              " RelationRecord(items=frozenset({'tomato sauce', 'ground beef'}), support=0.005332622317024397, ordered_statistics=[OrderedStatistic(items_base=frozenset({'tomato sauce'}), items_add=frozenset({'ground beef'}), confidence=0.3773584905660377, lift=3.840659481324083)]),\n",
              " RelationRecord(items=frozenset({'light cream', 'olive oil'}), support=0.003199573390214638, ordered_statistics=[OrderedStatistic(items_base=frozenset({'light cream'}), items_add=frozenset({'olive oil'}), confidence=0.20512820512820515, lift=3.1147098515519573)]),\n",
              " RelationRecord(items=frozenset({'whole wheat pasta', 'olive oil'}), support=0.007998933475536596, ordered_statistics=[OrderedStatistic(items_base=frozenset({'whole wheat pasta'}), items_add=frozenset({'olive oil'}), confidence=0.2714932126696833, lift=4.122410097642296)]),\n",
              " RelationRecord(items=frozenset({'shrimp', 'pasta'}), support=0.005065991201173177, ordered_statistics=[OrderedStatistic(items_base=frozenset({'pasta'}), items_add=frozenset({'shrimp'}), confidence=0.3220338983050847, lift=4.506672147735896)])]"
            ]
          },
          "metadata": {},
          "execution_count": 6
        }
      ]
    },
    {
      "cell_type": "markdown",
      "metadata": {
        "id": "MFkQP-fcjDBC"
      },
      "source": [
        "### Putting the results well organised into a Pandas DataFrame"
      ]
    },
    {
      "cell_type": "code",
      "source": [
        "def inspect(results):\n",
        "    lhs         = [tuple(result[2][0][0])[0] for result in results]\n",
        "    rhs         = [tuple(result[2][0][1])[0] for result in results]\n",
        "    supports    = [result[1] for result in results]\n",
        "    confidences = [result[2][0][2] for result in results]\n",
        "    lifts       = [result[2][0][3] for result in results]\n",
        "    return list(zip(lhs, rhs, supports, confidences, lifts))\n",
        "resultsinDataFrame = pd.DataFrame(inspect(results), columns = ['Left Hand Side', 'Right Hand Side', 'Support', 'Confidence', 'Lift'])"
      ],
      "metadata": {
        "id": "q_po1GAA7nSq"
      },
      "execution_count": null,
      "outputs": []
    },
    {
      "cell_type": "markdown",
      "metadata": {
        "id": "Pfn-G1eAjjLz"
      },
      "source": [
        "### Displaying the results non sorted"
      ]
    },
    {
      "cell_type": "code",
      "source": [
        "resultsinDataFrame"
      ],
      "metadata": {
        "colab": {
          "base_uri": "https://localhost:8080/",
          "height": 332
        },
        "id": "MaJTNfs-7tHB",
        "outputId": "a566a1be-0464-4eeb-f987-7df651dc8c34"
      },
      "execution_count": null,
      "outputs": [
        {
          "output_type": "execute_result",
          "data": {
            "text/plain": [
              "         Left Hand Side Right Hand Side   Support  Confidence      Lift\n",
              "0           light cream         chicken  0.004533    0.290598  4.843951\n",
              "1  mushroom cream sauce        escalope  0.005733    0.300699  3.790833\n",
              "2                 pasta        escalope  0.005866    0.372881  4.700812\n",
              "3         fromage blanc           honey  0.003333    0.245098  5.164271\n",
              "4         herb & pepper     ground beef  0.015998    0.323450  3.291994\n",
              "5          tomato sauce     ground beef  0.005333    0.377358  3.840659\n",
              "6           light cream       olive oil  0.003200    0.205128  3.114710\n",
              "7     whole wheat pasta       olive oil  0.007999    0.271493  4.122410\n",
              "8                 pasta          shrimp  0.005066    0.322034  4.506672"
            ],
            "text/html": [
              "\n",
              "  <div id=\"df-7e66f626-cc9c-4fe2-a7e3-028dbc3f30f1\">\n",
              "    <div class=\"colab-df-container\">\n",
              "      <div>\n",
              "<style scoped>\n",
              "    .dataframe tbody tr th:only-of-type {\n",
              "        vertical-align: middle;\n",
              "    }\n",
              "\n",
              "    .dataframe tbody tr th {\n",
              "        vertical-align: top;\n",
              "    }\n",
              "\n",
              "    .dataframe thead th {\n",
              "        text-align: right;\n",
              "    }\n",
              "</style>\n",
              "<table border=\"1\" class=\"dataframe\">\n",
              "  <thead>\n",
              "    <tr style=\"text-align: right;\">\n",
              "      <th></th>\n",
              "      <th>Left Hand Side</th>\n",
              "      <th>Right Hand Side</th>\n",
              "      <th>Support</th>\n",
              "      <th>Confidence</th>\n",
              "      <th>Lift</th>\n",
              "    </tr>\n",
              "  </thead>\n",
              "  <tbody>\n",
              "    <tr>\n",
              "      <th>0</th>\n",
              "      <td>light cream</td>\n",
              "      <td>chicken</td>\n",
              "      <td>0.004533</td>\n",
              "      <td>0.290598</td>\n",
              "      <td>4.843951</td>\n",
              "    </tr>\n",
              "    <tr>\n",
              "      <th>1</th>\n",
              "      <td>mushroom cream sauce</td>\n",
              "      <td>escalope</td>\n",
              "      <td>0.005733</td>\n",
              "      <td>0.300699</td>\n",
              "      <td>3.790833</td>\n",
              "    </tr>\n",
              "    <tr>\n",
              "      <th>2</th>\n",
              "      <td>pasta</td>\n",
              "      <td>escalope</td>\n",
              "      <td>0.005866</td>\n",
              "      <td>0.372881</td>\n",
              "      <td>4.700812</td>\n",
              "    </tr>\n",
              "    <tr>\n",
              "      <th>3</th>\n",
              "      <td>fromage blanc</td>\n",
              "      <td>honey</td>\n",
              "      <td>0.003333</td>\n",
              "      <td>0.245098</td>\n",
              "      <td>5.164271</td>\n",
              "    </tr>\n",
              "    <tr>\n",
              "      <th>4</th>\n",
              "      <td>herb &amp; pepper</td>\n",
              "      <td>ground beef</td>\n",
              "      <td>0.015998</td>\n",
              "      <td>0.323450</td>\n",
              "      <td>3.291994</td>\n",
              "    </tr>\n",
              "    <tr>\n",
              "      <th>5</th>\n",
              "      <td>tomato sauce</td>\n",
              "      <td>ground beef</td>\n",
              "      <td>0.005333</td>\n",
              "      <td>0.377358</td>\n",
              "      <td>3.840659</td>\n",
              "    </tr>\n",
              "    <tr>\n",
              "      <th>6</th>\n",
              "      <td>light cream</td>\n",
              "      <td>olive oil</td>\n",
              "      <td>0.003200</td>\n",
              "      <td>0.205128</td>\n",
              "      <td>3.114710</td>\n",
              "    </tr>\n",
              "    <tr>\n",
              "      <th>7</th>\n",
              "      <td>whole wheat pasta</td>\n",
              "      <td>olive oil</td>\n",
              "      <td>0.007999</td>\n",
              "      <td>0.271493</td>\n",
              "      <td>4.122410</td>\n",
              "    </tr>\n",
              "    <tr>\n",
              "      <th>8</th>\n",
              "      <td>pasta</td>\n",
              "      <td>shrimp</td>\n",
              "      <td>0.005066</td>\n",
              "      <td>0.322034</td>\n",
              "      <td>4.506672</td>\n",
              "    </tr>\n",
              "  </tbody>\n",
              "</table>\n",
              "</div>\n",
              "      <button class=\"colab-df-convert\" onclick=\"convertToInteractive('df-7e66f626-cc9c-4fe2-a7e3-028dbc3f30f1')\"\n",
              "              title=\"Convert this dataframe to an interactive table.\"\n",
              "              style=\"display:none;\">\n",
              "        \n",
              "  <svg xmlns=\"http://www.w3.org/2000/svg\" height=\"24px\"viewBox=\"0 0 24 24\"\n",
              "       width=\"24px\">\n",
              "    <path d=\"M0 0h24v24H0V0z\" fill=\"none\"/>\n",
              "    <path d=\"M18.56 5.44l.94 2.06.94-2.06 2.06-.94-2.06-.94-.94-2.06-.94 2.06-2.06.94zm-11 1L8.5 8.5l.94-2.06 2.06-.94-2.06-.94L8.5 2.5l-.94 2.06-2.06.94zm10 10l.94 2.06.94-2.06 2.06-.94-2.06-.94-.94-2.06-.94 2.06-2.06.94z\"/><path d=\"M17.41 7.96l-1.37-1.37c-.4-.4-.92-.59-1.43-.59-.52 0-1.04.2-1.43.59L10.3 9.45l-7.72 7.72c-.78.78-.78 2.05 0 2.83L4 21.41c.39.39.9.59 1.41.59.51 0 1.02-.2 1.41-.59l7.78-7.78 2.81-2.81c.8-.78.8-2.07 0-2.86zM5.41 20L4 18.59l7.72-7.72 1.47 1.35L5.41 20z\"/>\n",
              "  </svg>\n",
              "      </button>\n",
              "      \n",
              "  <style>\n",
              "    .colab-df-container {\n",
              "      display:flex;\n",
              "      flex-wrap:wrap;\n",
              "      gap: 12px;\n",
              "    }\n",
              "\n",
              "    .colab-df-convert {\n",
              "      background-color: #E8F0FE;\n",
              "      border: none;\n",
              "      border-radius: 50%;\n",
              "      cursor: pointer;\n",
              "      display: none;\n",
              "      fill: #1967D2;\n",
              "      height: 32px;\n",
              "      padding: 0 0 0 0;\n",
              "      width: 32px;\n",
              "    }\n",
              "\n",
              "    .colab-df-convert:hover {\n",
              "      background-color: #E2EBFA;\n",
              "      box-shadow: 0px 1px 2px rgba(60, 64, 67, 0.3), 0px 1px 3px 1px rgba(60, 64, 67, 0.15);\n",
              "      fill: #174EA6;\n",
              "    }\n",
              "\n",
              "    [theme=dark] .colab-df-convert {\n",
              "      background-color: #3B4455;\n",
              "      fill: #D2E3FC;\n",
              "    }\n",
              "\n",
              "    [theme=dark] .colab-df-convert:hover {\n",
              "      background-color: #434B5C;\n",
              "      box-shadow: 0px 1px 3px 1px rgba(0, 0, 0, 0.15);\n",
              "      filter: drop-shadow(0px 1px 2px rgba(0, 0, 0, 0.3));\n",
              "      fill: #FFFFFF;\n",
              "    }\n",
              "  </style>\n",
              "\n",
              "      <script>\n",
              "        const buttonEl =\n",
              "          document.querySelector('#df-7e66f626-cc9c-4fe2-a7e3-028dbc3f30f1 button.colab-df-convert');\n",
              "        buttonEl.style.display =\n",
              "          google.colab.kernel.accessAllowed ? 'block' : 'none';\n",
              "\n",
              "        async function convertToInteractive(key) {\n",
              "          const element = document.querySelector('#df-7e66f626-cc9c-4fe2-a7e3-028dbc3f30f1');\n",
              "          const dataTable =\n",
              "            await google.colab.kernel.invokeFunction('convertToInteractive',\n",
              "                                                     [key], {});\n",
              "          if (!dataTable) return;\n",
              "\n",
              "          const docLinkHtml = 'Like what you see? Visit the ' +\n",
              "            '<a target=\"_blank\" href=https://colab.research.google.com/notebooks/data_table.ipynb>data table notebook</a>'\n",
              "            + ' to learn more about interactive tables.';\n",
              "          element.innerHTML = '';\n",
              "          dataTable['output_type'] = 'display_data';\n",
              "          await google.colab.output.renderOutput(dataTable, element);\n",
              "          const docLink = document.createElement('div');\n",
              "          docLink.innerHTML = docLinkHtml;\n",
              "          element.appendChild(docLink);\n",
              "        }\n",
              "      </script>\n",
              "    </div>\n",
              "  </div>\n",
              "  "
            ]
          },
          "metadata": {},
          "execution_count": 8
        }
      ]
    },
    {
      "cell_type": "markdown",
      "metadata": {
        "id": "IjrrlYW4jpTR"
      },
      "source": [
        "### Displaying the results sorted by descending lifts"
      ]
    },
    {
      "cell_type": "code",
      "source": [
        "resultsinDataFrame.nlargest(n = 10, columns = 'Lift')"
      ],
      "metadata": {
        "colab": {
          "base_uri": "https://localhost:8080/",
          "height": 332
        },
        "id": "Z0WDsjO-7wyD",
        "outputId": "1c3c1a66-3e8c-4214-f854-e7e431ee4a33"
      },
      "execution_count": null,
      "outputs": [
        {
          "output_type": "execute_result",
          "data": {
            "text/plain": [
              "         Left Hand Side Right Hand Side   Support  Confidence      Lift\n",
              "3         fromage blanc           honey  0.003333    0.245098  5.164271\n",
              "0           light cream         chicken  0.004533    0.290598  4.843951\n",
              "2                 pasta        escalope  0.005866    0.372881  4.700812\n",
              "8                 pasta          shrimp  0.005066    0.322034  4.506672\n",
              "7     whole wheat pasta       olive oil  0.007999    0.271493  4.122410\n",
              "5          tomato sauce     ground beef  0.005333    0.377358  3.840659\n",
              "1  mushroom cream sauce        escalope  0.005733    0.300699  3.790833\n",
              "4         herb & pepper     ground beef  0.015998    0.323450  3.291994\n",
              "6           light cream       olive oil  0.003200    0.205128  3.114710"
            ],
            "text/html": [
              "\n",
              "  <div id=\"df-3a1d16ad-251f-43cb-94e2-97099a14640d\">\n",
              "    <div class=\"colab-df-container\">\n",
              "      <div>\n",
              "<style scoped>\n",
              "    .dataframe tbody tr th:only-of-type {\n",
              "        vertical-align: middle;\n",
              "    }\n",
              "\n",
              "    .dataframe tbody tr th {\n",
              "        vertical-align: top;\n",
              "    }\n",
              "\n",
              "    .dataframe thead th {\n",
              "        text-align: right;\n",
              "    }\n",
              "</style>\n",
              "<table border=\"1\" class=\"dataframe\">\n",
              "  <thead>\n",
              "    <tr style=\"text-align: right;\">\n",
              "      <th></th>\n",
              "      <th>Left Hand Side</th>\n",
              "      <th>Right Hand Side</th>\n",
              "      <th>Support</th>\n",
              "      <th>Confidence</th>\n",
              "      <th>Lift</th>\n",
              "    </tr>\n",
              "  </thead>\n",
              "  <tbody>\n",
              "    <tr>\n",
              "      <th>3</th>\n",
              "      <td>fromage blanc</td>\n",
              "      <td>honey</td>\n",
              "      <td>0.003333</td>\n",
              "      <td>0.245098</td>\n",
              "      <td>5.164271</td>\n",
              "    </tr>\n",
              "    <tr>\n",
              "      <th>0</th>\n",
              "      <td>light cream</td>\n",
              "      <td>chicken</td>\n",
              "      <td>0.004533</td>\n",
              "      <td>0.290598</td>\n",
              "      <td>4.843951</td>\n",
              "    </tr>\n",
              "    <tr>\n",
              "      <th>2</th>\n",
              "      <td>pasta</td>\n",
              "      <td>escalope</td>\n",
              "      <td>0.005866</td>\n",
              "      <td>0.372881</td>\n",
              "      <td>4.700812</td>\n",
              "    </tr>\n",
              "    <tr>\n",
              "      <th>8</th>\n",
              "      <td>pasta</td>\n",
              "      <td>shrimp</td>\n",
              "      <td>0.005066</td>\n",
              "      <td>0.322034</td>\n",
              "      <td>4.506672</td>\n",
              "    </tr>\n",
              "    <tr>\n",
              "      <th>7</th>\n",
              "      <td>whole wheat pasta</td>\n",
              "      <td>olive oil</td>\n",
              "      <td>0.007999</td>\n",
              "      <td>0.271493</td>\n",
              "      <td>4.122410</td>\n",
              "    </tr>\n",
              "    <tr>\n",
              "      <th>5</th>\n",
              "      <td>tomato sauce</td>\n",
              "      <td>ground beef</td>\n",
              "      <td>0.005333</td>\n",
              "      <td>0.377358</td>\n",
              "      <td>3.840659</td>\n",
              "    </tr>\n",
              "    <tr>\n",
              "      <th>1</th>\n",
              "      <td>mushroom cream sauce</td>\n",
              "      <td>escalope</td>\n",
              "      <td>0.005733</td>\n",
              "      <td>0.300699</td>\n",
              "      <td>3.790833</td>\n",
              "    </tr>\n",
              "    <tr>\n",
              "      <th>4</th>\n",
              "      <td>herb &amp; pepper</td>\n",
              "      <td>ground beef</td>\n",
              "      <td>0.015998</td>\n",
              "      <td>0.323450</td>\n",
              "      <td>3.291994</td>\n",
              "    </tr>\n",
              "    <tr>\n",
              "      <th>6</th>\n",
              "      <td>light cream</td>\n",
              "      <td>olive oil</td>\n",
              "      <td>0.003200</td>\n",
              "      <td>0.205128</td>\n",
              "      <td>3.114710</td>\n",
              "    </tr>\n",
              "  </tbody>\n",
              "</table>\n",
              "</div>\n",
              "      <button class=\"colab-df-convert\" onclick=\"convertToInteractive('df-3a1d16ad-251f-43cb-94e2-97099a14640d')\"\n",
              "              title=\"Convert this dataframe to an interactive table.\"\n",
              "              style=\"display:none;\">\n",
              "        \n",
              "  <svg xmlns=\"http://www.w3.org/2000/svg\" height=\"24px\"viewBox=\"0 0 24 24\"\n",
              "       width=\"24px\">\n",
              "    <path d=\"M0 0h24v24H0V0z\" fill=\"none\"/>\n",
              "    <path d=\"M18.56 5.44l.94 2.06.94-2.06 2.06-.94-2.06-.94-.94-2.06-.94 2.06-2.06.94zm-11 1L8.5 8.5l.94-2.06 2.06-.94-2.06-.94L8.5 2.5l-.94 2.06-2.06.94zm10 10l.94 2.06.94-2.06 2.06-.94-2.06-.94-.94-2.06-.94 2.06-2.06.94z\"/><path d=\"M17.41 7.96l-1.37-1.37c-.4-.4-.92-.59-1.43-.59-.52 0-1.04.2-1.43.59L10.3 9.45l-7.72 7.72c-.78.78-.78 2.05 0 2.83L4 21.41c.39.39.9.59 1.41.59.51 0 1.02-.2 1.41-.59l7.78-7.78 2.81-2.81c.8-.78.8-2.07 0-2.86zM5.41 20L4 18.59l7.72-7.72 1.47 1.35L5.41 20z\"/>\n",
              "  </svg>\n",
              "      </button>\n",
              "      \n",
              "  <style>\n",
              "    .colab-df-container {\n",
              "      display:flex;\n",
              "      flex-wrap:wrap;\n",
              "      gap: 12px;\n",
              "    }\n",
              "\n",
              "    .colab-df-convert {\n",
              "      background-color: #E8F0FE;\n",
              "      border: none;\n",
              "      border-radius: 50%;\n",
              "      cursor: pointer;\n",
              "      display: none;\n",
              "      fill: #1967D2;\n",
              "      height: 32px;\n",
              "      padding: 0 0 0 0;\n",
              "      width: 32px;\n",
              "    }\n",
              "\n",
              "    .colab-df-convert:hover {\n",
              "      background-color: #E2EBFA;\n",
              "      box-shadow: 0px 1px 2px rgba(60, 64, 67, 0.3), 0px 1px 3px 1px rgba(60, 64, 67, 0.15);\n",
              "      fill: #174EA6;\n",
              "    }\n",
              "\n",
              "    [theme=dark] .colab-df-convert {\n",
              "      background-color: #3B4455;\n",
              "      fill: #D2E3FC;\n",
              "    }\n",
              "\n",
              "    [theme=dark] .colab-df-convert:hover {\n",
              "      background-color: #434B5C;\n",
              "      box-shadow: 0px 1px 3px 1px rgba(0, 0, 0, 0.15);\n",
              "      filter: drop-shadow(0px 1px 2px rgba(0, 0, 0, 0.3));\n",
              "      fill: #FFFFFF;\n",
              "    }\n",
              "  </style>\n",
              "\n",
              "      <script>\n",
              "        const buttonEl =\n",
              "          document.querySelector('#df-3a1d16ad-251f-43cb-94e2-97099a14640d button.colab-df-convert');\n",
              "        buttonEl.style.display =\n",
              "          google.colab.kernel.accessAllowed ? 'block' : 'none';\n",
              "\n",
              "        async function convertToInteractive(key) {\n",
              "          const element = document.querySelector('#df-3a1d16ad-251f-43cb-94e2-97099a14640d');\n",
              "          const dataTable =\n",
              "            await google.colab.kernel.invokeFunction('convertToInteractive',\n",
              "                                                     [key], {});\n",
              "          if (!dataTable) return;\n",
              "\n",
              "          const docLinkHtml = 'Like what you see? Visit the ' +\n",
              "            '<a target=\"_blank\" href=https://colab.research.google.com/notebooks/data_table.ipynb>data table notebook</a>'\n",
              "            + ' to learn more about interactive tables.';\n",
              "          element.innerHTML = '';\n",
              "          dataTable['output_type'] = 'display_data';\n",
              "          await google.colab.output.renderOutput(dataTable, element);\n",
              "          const docLink = document.createElement('div');\n",
              "          docLink.innerHTML = docLinkHtml;\n",
              "          element.appendChild(docLink);\n",
              "        }\n",
              "      </script>\n",
              "    </div>\n",
              "  </div>\n",
              "  "
            ]
          },
          "metadata": {},
          "execution_count": 9
        }
      ]
    }
  ]
}